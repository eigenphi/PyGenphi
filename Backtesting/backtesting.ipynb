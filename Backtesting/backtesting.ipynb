{
 "cells": [
  {
   "cell_type": "code",
   "execution_count": 110,
   "metadata": {},
   "outputs": [],
   "source": [
    "from decimal import *\n",
    "from triangle_arbitrage_1 import *"
   ]
  },
  {
   "cell_type": "code",
   "execution_count": 111,
   "metadata": {},
   "outputs": [],
   "source": [
    "data = [{\"ts\":1621838174030,\n",
    "        \"lp1\":{\"address\":'null',\"token0\":'null',\n",
    "               \"token1\":'null',\"a\":701.9658764378628,\n",
    "               \"b\":2753.524247270675,\"feeRate\":0.002,\"totalSupply\":1233.3538969752058},\n",
    "        \"lp2\":{\"address\":'null',\"token0\":'null',\"token1\":'null',\"a\":370834.17261860956,\n",
    "               \"b\":101525012.5453924,\"feeRate\":0.002,\"totalSupply\":5781589.060500768},\n",
    "        \"lp3\":{\"address\":'null',\"token0\":'null',\"token1\":'null',\"a\":202124.2137711928,\"b\":2939.782090774519,\"feeRate\":0.002,\"totalSupply\":22045.226903695126}}]"
   ]
  },
  {
   "cell_type": "code",
   "execution_count": 112,
   "metadata": {},
   "outputs": [
    {
     "data": {
      "text/plain": [
       "'\\nna1 = Decimal(\"1262.7200528856977\")\\nnb1 = Decimal(\"17745233.19082583\")\\nna2 = Decimal(\"196348.36889925803\")\\nnc2 = Decimal(\"71019419.15327084\")\\nnc3 = Decimal(\"70603.77307372556\")\\nnb3 = Decimal(\"2842256.148032117\")\\na = Decimal(\"0.9975\")\\nk1 = na1*nb1\\nk2 = na2*nc2\\nk3 = nc3*nb3\\n'"
      ]
     },
     "execution_count": 112,
     "metadata": {},
     "output_type": "execute_result"
    }
   ],
   "source": [
    "'''\n",
    "na1 = Decimal(\"1262.7200528856977\")\n",
    "nb1 = Decimal(\"17745233.19082583\")\n",
    "na2 = Decimal(\"196348.36889925803\")\n",
    "nc2 = Decimal(\"71019419.15327084\")\n",
    "nc3 = Decimal(\"70603.77307372556\")\n",
    "nb3 = Decimal(\"2842256.148032117\")\n",
    "a = Decimal(\"0.9975\")\n",
    "k1 = na1*nb1\n",
    "k2 = na2*nc2\n",
    "k3 = nc3*nb3\n",
    "'''"
   ]
  },
  {
   "cell_type": "code",
   "execution_count": 113,
   "metadata": {},
   "outputs": [],
   "source": [
    "def get_data():\n",
    "    #TODO 以list的形式获取多个tick数据\n",
    "    pass"
   ]
  },
  {
   "cell_type": "code",
   "execution_count": 114,
   "metadata": {},
   "outputs": [],
   "source": [
    "#data\n",
    "def read_data(data, fee_rate): #feerate: 1-0.0025\n",
    "    na1 = Decimal(str(data[0]['lp1']['a'])) #reserve0\n",
    "    nb1 = Decimal(str(data[0]['lp1']['b'])) #reserve1\n",
    "    na2 = Decimal(str(data[0]['lp2']['a'])) #reserve0\n",
    "    nc2 = Decimal(str(data[0]['lp2']['b'])) #reserve1\n",
    "    nc3 = Decimal(str(data[0]['lp3']['a'])) #reserve0\n",
    "    nb3 = Decimal(str(data[0]['lp3']['b'])) #reserve1\n",
    "    k1 = na1*nb1\n",
    "    k2 = na2*nc2\n",
    "    k3 = nc3*nb3\n",
    "    return [fee_rate, k1, k2, k3, na1, na2, nb1, nb3, nc2, nc3]"
   ]
  },
  {
   "cell_type": "code",
   "execution_count": 115,
   "metadata": {},
   "outputs": [],
   "source": [
    "#signal\n",
    "def signal(a, k1, k2, k3, na1, na2, nb1, nb3, nc2, nc3, delta):\n",
    "    r = calc_triangle_arbitrage(a, k1, k2, k3, na1, na2, nb1, nb3, nc2, nc3, delta)\n",
    "    if r>0:\n",
    "        return(\"Signal found\")\n",
    "    else:\n",
    "        return(\"Signal not found\")"
   ]
  },
  {
   "cell_type": "code",
   "execution_count": 116,
   "metadata": {},
   "outputs": [],
   "source": [
    "#trade\n",
    "def trade():\n",
    "    #TODO 用下一个tick的数据进行交易\n",
    "    pass"
   ]
  },
  {
   "cell_type": "code",
   "execution_count": 117,
   "metadata": {},
   "outputs": [],
   "source": [
    "if __name__ == '__main__':\n",
    "    data = read_data(data, Decimal('0.9975'))\n",
    "    signal(data[0],data[1],data[2],data[3],data[4],data[5],data[6],data[7],data[8],data[9],Decimal(\"0.03\"))"
   ]
  }
 ],
 "metadata": {
  "kernelspec": {
   "display_name": "Python 3",
   "language": "python",
   "name": "python3"
  },
  "language_info": {
   "codemirror_mode": {
    "name": "ipython",
    "version": 3
   },
   "file_extension": ".py",
   "mimetype": "text/x-python",
   "name": "python",
   "nbconvert_exporter": "python",
   "pygments_lexer": "ipython3",
   "version": "3.7.4"
  }
 },
 "nbformat": 4,
 "nbformat_minor": 2
}
